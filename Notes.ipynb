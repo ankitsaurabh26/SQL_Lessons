{
 "cells": [
  {
   "cell_type": "markdown",
   "id": "177b8730-1628-4e0a-a4ed-7a6fb0328038",
   "metadata": {},
   "source": [
    "**Properties of an ideal Database**\n",
    "- Integrity\n",
    "- Availability\n",
    "- Security\n",
    "- Independent from Application\n",
    "- Concurrency"
   ]
  },
  {
   "cell_type": "markdown",
   "id": "71242edc-1e96-4716-bee1-f3404f86b443",
   "metadata": {},
   "source": [
    "**Types of Databases**:\n",
    "\n",
    "(a) Relational Databases : Tabels with rows and columns -> MySQL, Oracle, PostgreSQL etc.\n",
    "\n",
    "(b) NoSQL Databases : For unstructured or semi-structured data such as images, documents, or videos -> MongoDB\n",
    "\n",
    "(c) Column Databases : Store data in columns rather than rows, well suited for data warehousing and analytical applications -> Amazon Redshift, Google BigQuery\n",
    "\n",
    "(d) Graph Databases : Used to store and query graph-structured Databases -> Neo4j, Amazon Neptune\n",
    "\n",
    "(e) Key-Value Databases : Store data as a collection of keys and values, well suited for caching and simple data storage needs -> Redis and Amazon DynamoDB"
   ]
  },
  {
   "cell_type": "code",
   "execution_count": null,
   "id": "32ea66ea-4d2c-49b7-8fcc-4af8813ef0ab",
   "metadata": {},
   "outputs": [],
   "source": []
  }
 ],
 "metadata": {
  "kernelspec": {
   "display_name": "Python 3 (ipykernel)",
   "language": "python",
   "name": "python3"
  },
  "language_info": {
   "codemirror_mode": {
    "name": "ipython",
    "version": 3
   },
   "file_extension": ".py",
   "mimetype": "text/x-python",
   "name": "python",
   "nbconvert_exporter": "python",
   "pygments_lexer": "ipython3",
   "version": "3.12.3"
  }
 },
 "nbformat": 4,
 "nbformat_minor": 5
}
